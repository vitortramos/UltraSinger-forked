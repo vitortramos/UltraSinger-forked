{
 "nbformat": 4,
 "nbformat_minor": 0,
 "metadata": {
  "colab": {
   "provenance": [],
   "gpuType": "T4"
  },
  "kernelspec": {
   "name": "python3",
   "display_name": "Python 3"
  },
  "language_info": {
   "name": "python"
  },
  "accelerator": "GPU"
 },
 "cells": [
  {
   "cell_type": "code",
   "execution_count": null,
   "metadata": {
    "id": "Hki_kX_kSbZX"
   },
   "outputs": [],
   "source": [
    "%cd /content\n",
    "!git clone https://github.com/rakuri255/UltraSinger.git\n",
    "%cd /content/UltraSinger\n",
    "!pip install --no-cache-dir -r requirements-linux.txt\n",
    "!pip install --no-cache-dir torch==2.3.0 torchvision==0.18.0 torchaudio==2.3.0 --index-url https://download.pytorch.org/whl/cu121\n",
    "!pip install --no-cache-dir tensorflow[and-cuda]==2.17.1\n",
    "%cd /content/UltraSinger/src"
   ]
  },
  {
   "cell_type": "code",
   "source": [
    "!python UltraSinger.py -i https://www.youtube.com/watch?v=YwNs1Z0qRY0 -o /content/output"
   ],
   "metadata": {
    "id": "O0j4vUW0YAG2"
   },
   "execution_count": null,
   "outputs": []
  }
 ]
}
